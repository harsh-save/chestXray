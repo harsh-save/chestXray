{
 "cells": [
  {
   "cell_type": "code",
   "execution_count": 10,
   "metadata": {},
   "outputs": [],
   "source": [
    "import os, shutil\n",
    "import matplotlib.pyplot as plt\n",
    "import cv2"
   ]
  },
  {
   "cell_type": "code",
   "execution_count": 2,
   "metadata": {},
   "outputs": [],
   "source": [
    "original_data_dir = '/mnt/e/DeepLearningDatasets/ChestXray/chest_xray'"
   ]
  },
  {
   "attachments": {},
   "cell_type": "markdown",
   "metadata": {},
   "source": [
    "### Data spliting\n",
    "\n",
    "##### 1. Training dataset = 2000 images\n",
    "##### 2. Validation dataset = 1000 images\n",
    "##### 3. Testing dataset = 400 images\n"
   ]
  },
  {
   "cell_type": "code",
   "execution_count": 3,
   "metadata": {},
   "outputs": [],
   "source": [
    "final_ds = '/mnt/e/DeepLearningDatasets/ChestXray/FinalDS'\n",
    "os.mkdir(final_ds)"
   ]
  },
  {
   "attachments": {},
   "cell_type": "markdown",
   "metadata": {},
   "source": [
    "### 1. Training images split"
   ]
  },
  {
   "cell_type": "code",
   "execution_count": 4,
   "metadata": {},
   "outputs": [],
   "source": [
    "train_dir = os.path.join(final_ds, 'train')\n",
    "os.mkdir(train_dir)\n",
    "normal_train_dir = os.path.join(train_dir, 'normal')\n",
    "os.mkdir(normal_train_dir)\n",
    "p_train_dir = os.path.join(train_dir,'pneumonia')\n",
    "os.mkdir(p_train_dir)"
   ]
  },
  {
   "attachments": {},
   "cell_type": "markdown",
   "metadata": {},
   "source": [
    "#### Copying 2000 of each class to the train directory"
   ]
  },
  {
   "cell_type": "code",
   "execution_count": 20,
   "metadata": {},
   "outputs": [],
   "source": [
    "fnames = ['NORMAL_{}.jpeg'.format(i) for i in range(0,2000)]\n",
    "for fname in fnames:\n",
    "    src = os.path.join(original_data_dir+'/train/NORMAL',fname)\n",
    "    dst = os.path.join(normal_train_dir,fname)\n",
    "    shutil.copyfile(src, dst)\n"
   ]
  },
  {
   "cell_type": "code",
   "execution_count": 21,
   "metadata": {},
   "outputs": [],
   "source": [
    "fnames = ['PNEUMONIA_{}.jpeg'.format(i) for i in range(0,2000)]\n",
    "for fname in fnames:\n",
    "    src = os.path.join(original_data_dir+'/train/PNEUMONIA',fname)\n",
    "    dst = os.path.join(p_train_dir,fname)\n",
    "    shutil.copyfile(src, dst)"
   ]
  },
  {
   "attachments": {},
   "cell_type": "markdown",
   "metadata": {},
   "source": [
    "### 2. Validation image split"
   ]
  },
  {
   "cell_type": "code",
   "execution_count": 22,
   "metadata": {},
   "outputs": [],
   "source": [
    "validation_dir = os.path.join(final_ds, 'validation')\n",
    "os.mkdir(validation_dir)\n",
    "normal_validation_dir = os.path.join(validation_dir, 'normal')\n",
    "os.mkdir(normal_validation_dir)\n",
    "p_validation_dir = os.path.join(validation_dir,'pneumonia')\n",
    "os.mkdir(p_validation_dir)"
   ]
  },
  {
   "cell_type": "code",
   "execution_count": 23,
   "metadata": {},
   "outputs": [],
   "source": [
    "fnames = ['NORMAL_{}.jpeg'.format(i) for i in range(2000,3000)]\n",
    "for fname in fnames:\n",
    "    src = os.path.join(original_data_dir+'/train/NORMAL',fname)\n",
    "    dst = os.path.join(normal_validation_dir,fname)\n",
    "    shutil.copyfile(src, dst)"
   ]
  },
  {
   "cell_type": "code",
   "execution_count": 24,
   "metadata": {},
   "outputs": [],
   "source": [
    "fnames = ['PNEUMONIA_{}.jpeg'.format(i) for i in range(2000,3000)]\n",
    "for fname in fnames:\n",
    "    src = os.path.join(original_data_dir+'/train/PNEUMONIA',fname)\n",
    "    dst = os.path.join(p_validation_dir,fname)\n",
    "    shutil.copyfile(src, dst)"
   ]
  },
  {
   "attachments": {},
   "cell_type": "markdown",
   "metadata": {},
   "source": [
    "### 3. Test image split"
   ]
  },
  {
   "cell_type": "code",
   "execution_count": 25,
   "metadata": {},
   "outputs": [],
   "source": [
    "test_dir = os.path.join(final_ds, 'test')\n",
    "os.mkdir(test_dir)\n",
    "normal_test_dir = os.path.join(test_dir, 'normal')\n",
    "os.mkdir(normal_test_dir)\n",
    "p_test_dir = os.path.join(test_dir, 'pneumonia')\n",
    "os.mkdir(p_test_dir)"
   ]
  },
  {
   "cell_type": "code",
   "execution_count": 26,
   "metadata": {},
   "outputs": [],
   "source": [
    "fnames = ['NORMAL_{}.jpeg'.format(i) for i in range(3000, 3100)]\n",
    "for fname in fnames:\n",
    "    src = os.path.join(original_data_dir+'/train/NORMAL',fname)\n",
    "    dst = os.path.join(normal_test_dir,fname)\n",
    "    shutil.copyfile(src, dst)"
   ]
  },
  {
   "cell_type": "code",
   "execution_count": 27,
   "metadata": {},
   "outputs": [],
   "source": [
    "fnames = ['PNEUMONIA_{}.jpeg'.format(i) for i in range(3000, 3100)]\n",
    "for fname in fnames:\n",
    "    src = os.path.join(original_data_dir+'/train/PNEUMONIA',fname)\n",
    "    dst = os.path.join(p_test_dir,fname)\n",
    "    shutil.copyfile(src, dst)"
   ]
  },
  {
   "cell_type": "code",
   "execution_count": null,
   "metadata": {},
   "outputs": [],
   "source": []
  }
 ],
 "metadata": {
  "kernelspec": {
   "display_name": "tf",
   "language": "python",
   "name": "python3"
  },
  "language_info": {
   "codemirror_mode": {
    "name": "ipython",
    "version": 3
   },
   "file_extension": ".py",
   "mimetype": "text/x-python",
   "name": "python",
   "nbconvert_exporter": "python",
   "pygments_lexer": "ipython3",
   "version": "3.9.16"
  },
  "orig_nbformat": 4
 },
 "nbformat": 4,
 "nbformat_minor": 2
}
